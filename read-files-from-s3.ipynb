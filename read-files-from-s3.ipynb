{
 "cells": [
  {
   "cell_type": "markdown",
   "id": "4716a656",
   "metadata": {},
   "source": [
    "## Download and read file from AWS Open Data set\n",
    "\n",
    "For this example, we are using below Open Data set which is publicly available. \n",
    "\n",
    "[NapierOne Mixed File Dataset](https://registry.opendata.aws/napierone/)\n",
    "\n",
    "Although this data set has many files, we will be focusing on download and reading just one text file\n",
    "```\n",
    "http://napierone.com.s3.amazonaws.com/NapierOne/Data/7ZIP/7ZIP-BZIP2-small_zip_hashes.txt\n",
    "```\n",
    "\n",
    "To read this file, we are using Python and boto3 library"
   ]
  },
  {
   "cell_type": "markdown",
   "id": "be8d96fd",
   "metadata": {},
   "source": [
    "### Step 1: Install boto3 library"
   ]
  },
  {
   "cell_type": "code",
   "execution_count": null,
   "id": "opposed-complex",
   "metadata": {},
   "outputs": [],
   "source": [
    "pip install boto3"
   ]
  },
  {
   "cell_type": "code",
   "execution_count": null,
   "id": "5b13de80",
   "metadata": {},
   "outputs": [],
   "source": [
    "import boto3\n",
    "from botocore.handlers import disable_signing\n",
    "from botocore import UNSIGNED\n",
    "from botocore.config import Config\n",
    "import os"
   ]
  },
  {
   "cell_type": "markdown",
   "id": "0b3b3062",
   "metadata": {},
   "source": [
    "### Step 2: Set Bucket name and Files location as variables"
   ]
  },
  {
   "cell_type": "code",
   "execution_count": null,
   "id": "miniature-colon",
   "metadata": {},
   "outputs": [],
   "source": [
    "S3_BUCKET = \"napierone.com\"\n",
    "SAMPLE_FILE = \"NapierOne/Data/7ZIP/7ZIP-BZIP2-small_zip_hashes.txt\"\n",
    "TEMP_FILE = \"temp.txt\""
   ]
  },
  {
   "cell_type": "markdown",
   "id": "d12a3dd0",
   "metadata": {},
   "source": [
    "### Step 3: Register S3 client and resource\n",
    "Note: Since we are reading files from an open data set, we are not using any credentials."
   ]
  },
  {
   "cell_type": "code",
   "execution_count": null,
   "id": "attractive-values",
   "metadata": {},
   "outputs": [],
   "source": [
    "s3_client = boto3.client('s3', config=Config(signature_version=UNSIGNED)) # equivalent to --no-sign-request\n",
    "s3_resource = boto3.resource('s3')\n",
    "s3_resource.meta.client.meta.events.register('choose-signer.s3.*', disable_signing) # equivalent to --no-sign-request"
   ]
  },
  {
   "cell_type": "markdown",
   "id": "e9b4196f",
   "metadata": {},
   "source": [
    "### Step 4: Read all objects in specified location in this bucket"
   ]
  },
  {
   "cell_type": "code",
   "execution_count": null,
   "id": "hourly-housing",
   "metadata": {},
   "outputs": [],
   "source": [
    "file_names = []\n",
    "bucket = s3_resource.Bucket(S3_BUCKET)\n",
    "\n",
    "for object in bucket.objects.all():\n",
    "    file_names.append(object.key)\n",
    "\n",
    "print(f\"Available {len(file_names)} files\")"
   ]
  },
  {
   "cell_type": "markdown",
   "id": "c78ad75e",
   "metadata": {},
   "source": [
    "### Step 5: Download file to temp location and read contents from the file"
   ]
  },
  {
   "cell_type": "code",
   "execution_count": null,
   "id": "6301182f",
   "metadata": {},
   "outputs": [],
   "source": [
    "s3_client.download_file(S3_BUCKET, SAMPLE_FILE, TEMP_FILE)\n",
    "\n",
    "with open(TEMP_FILE, \"r\") as text_file:\n",
    "    for line in text_file.read().splitlines():\n",
    "        \n",
    "        # Printing only lines with text\n",
    "        if len(line.replace(' ','')) > 0:\n",
    "            print(line)\n"
   ]
  },
  {
   "cell_type": "markdown",
   "id": "7fa48b50",
   "metadata": {},
   "source": [
    "#### Step 6: Finally, clean up temp file."
   ]
  },
  {
   "cell_type": "code",
   "execution_count": null,
   "id": "ee238809",
   "metadata": {},
   "outputs": [],
   "source": [
    "os.remove(TEMP_FILE)"
   ]
  }
 ],
 "metadata": {
  "kernelspec": {
   "display_name": "Python 3.9.13 64-bit (microsoft store)",
   "language": "python",
   "name": "python3"
  },
  "language_info": {
   "codemirror_mode": {
    "name": "ipython",
    "version": 3
   },
   "file_extension": ".py",
   "mimetype": "text/x-python",
   "name": "python",
   "nbconvert_exporter": "python",
   "pygments_lexer": "ipython3",
   "version": "3.9.13"
  },
  "vscode": {
   "interpreter": {
    "hash": "c0f7ff968abd5cdc646c3b0d79d8d9fba0fbc1faf12e0395fe0c5d95a57fad77"
   }
  }
 },
 "nbformat": 4,
 "nbformat_minor": 5
}
