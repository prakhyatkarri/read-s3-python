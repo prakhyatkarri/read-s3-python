{
 "cells": [
  {
   "cell_type": "code",
   "execution_count": 5,
   "id": "negative-mapping",
   "metadata": {},
   "outputs": [],
   "source": [
    "## Download files from AWS Open Data set\n",
    "\n",
    "### For this example, we are using Genome-Browser Open Data set which is publicly available. Read [here](https://registry.opendata.aws/ucsc-genome-browser/) for more information on this dataset.\n",
    "### Although this data set has many files, we will be focusing on download and reading a small set of files from below location\n",
    "\n",
    "# cells/acute-myeloid-leuk/SCPCS000223/metaFields/ \n",
    "\n",
    "\n",
    "### To read these files, we are using Python and boto3 library\n",
    "\n",
    "### Step 1: Install boto3 library"
   ]
  },
  {
   "cell_type": "code",
   "execution_count": 10,
   "id": "employed-finance",
   "metadata": {},
   "outputs": [
    {
     "name": "stdout",
     "output_type": "stream",
     "text": [
      "Note: you may need to restart the kernel to use updated packages.\n"
     ]
    },
    {
     "name": "stderr",
     "output_type": "stream",
     "text": [
      "'C:\\Program' is not recognized as an internal or external command,\n",
      "operable program or batch file.\n"
     ]
    }
   ],
   "source": [
    "pip install boto3"
   ]
  },
  {
   "cell_type": "code",
   "execution_count": 7,
   "id": "attached-railway",
   "metadata": {},
   "outputs": [],
   "source": [
    "### Set Bucket name and Files location as variables"
   ]
  },
  {
   "cell_type": "code",
   "execution_count": 8,
   "id": "personal-frontier",
   "metadata": {},
   "outputs": [],
   "source": [
    "S3_BUCKET = \"genome-browser\"\n",
    "DIRECTORY = \"cells/acute-myeloid-leuk/SCPCS000223/metaFields/\""
   ]
  },
  {
   "cell_type": "code",
   "execution_count": 9,
   "id": "sacred-abraham",
   "metadata": {},
   "outputs": [
    {
     "name": "stdout",
     "output_type": "stream",
     "text": [
      "genome-browser\n"
     ]
    }
   ],
   "source": [
    "print(S3_BUCKET)"
   ]
  },
  {
   "cell_type": "code",
   "execution_count": null,
   "id": "technological-specification",
   "metadata": {},
   "outputs": [],
   "source": []
  }
 ],
 "metadata": {
  "kernelspec": {
   "display_name": "Python 3",
   "language": "python",
   "name": "python3"
  },
  "language_info": {
   "codemirror_mode": {
    "name": "ipython",
    "version": 3
   },
   "file_extension": ".py",
   "mimetype": "text/x-python",
   "name": "python",
   "nbconvert_exporter": "python",
   "pygments_lexer": "ipython3",
   "version": "3.9.1"
  }
 },
 "nbformat": 4,
 "nbformat_minor": 5
}
