{
 "cells": [
  {
   "cell_type": "markdown",
   "id": "4716a656",
   "metadata": {},
   "source": [
    "## Download files from AWS Open Data set\n",
    "\n",
    "For this example, we are using below Open Data set which is publicly available. \n",
    "\n",
    "[NapierOne Mixed File Dataset](https://registry.opendata.aws/napierone/)\n",
    "\n",
    "Although this data set has many files, we will be focusing on download and reading just one text file\n",
    "```\n",
    "http://napierone.com.s3.amazonaws.com/NapierOne/Data/7ZIP/7ZIP-BZIP2-small_zip_hashes.txt\n",
    "```\n",
    "\n",
    "To read these files, we are using Python and boto3 library"
   ]
  },
  {
   "cell_type": "markdown",
   "id": "be8d96fd",
   "metadata": {},
   "source": [
    "### Step 1: Install boto3 library"
   ]
  },
  {
   "cell_type": "code",
   "execution_count": 39,
   "id": "opposed-complex",
   "metadata": {},
   "outputs": [
    {
     "name": "stdout",
     "output_type": "stream",
     "text": [
      "Requirement already satisfied: boto3 in c:\\users\\prakh\\appdata\\local\\packages\\pythonsoftwarefoundation.python.3.9_qbz5n2kfra8p0\\localcache\\local-packages\\python39\\site-packages (1.26.11)\n",
      "Requirement already satisfied: s3transfer<0.7.0,>=0.6.0 in c:\\users\\prakh\\appdata\\local\\packages\\pythonsoftwarefoundation.python.3.9_qbz5n2kfra8p0\\localcache\\local-packages\\python39\\site-packages (from boto3) (0.6.0)\n",
      "Requirement already satisfied: jmespath<2.0.0,>=0.7.1 in c:\\users\\prakh\\appdata\\local\\packages\\pythonsoftwarefoundation.python.3.9_qbz5n2kfra8p0\\localcache\\local-packages\\python39\\site-packages (from boto3) (1.0.1)\n",
      "Requirement already satisfied: botocore<1.30.0,>=1.29.11 in c:\\users\\prakh\\appdata\\local\\packages\\pythonsoftwarefoundation.python.3.9_qbz5n2kfra8p0\\localcache\\local-packages\\python39\\site-packages (from boto3) (1.29.11)\n",
      "Requirement already satisfied: urllib3<1.27,>=1.25.4 in c:\\users\\prakh\\appdata\\local\\packages\\pythonsoftwarefoundation.python.3.9_qbz5n2kfra8p0\\localcache\\local-packages\\python39\\site-packages (from botocore<1.30.0,>=1.29.11->boto3) (1.26.12)\n",
      "Requirement already satisfied: python-dateutil<3.0.0,>=2.1 in c:\\users\\prakh\\appdata\\local\\packages\\pythonsoftwarefoundation.python.3.9_qbz5n2kfra8p0\\localcache\\local-packages\\python39\\site-packages (from botocore<1.30.0,>=1.29.11->boto3) (2.8.2)\n",
      "Requirement already satisfied: six>=1.5 in c:\\users\\prakh\\appdata\\local\\packages\\pythonsoftwarefoundation.python.3.9_qbz5n2kfra8p0\\localcache\\local-packages\\python39\\site-packages (from python-dateutil<3.0.0,>=2.1->botocore<1.30.0,>=1.29.11->boto3) (1.16.0)\n",
      "Note: you may need to restart the kernel to use updated packages.\n"
     ]
    },
    {
     "name": "stderr",
     "output_type": "stream",
     "text": [
      "WARNING: You are using pip version 22.0.4; however, version 22.3.1 is available.\n",
      "You should consider upgrading via the 'C:\\Users\\prakh\\AppData\\Local\\Microsoft\\WindowsApps\\PythonSoftwareFoundation.Python.3.9_qbz5n2kfra8p0\\python.exe -m pip install --upgrade pip' command.\n"
     ]
    }
   ],
   "source": [
    "pip install boto3"
   ]
  },
  {
   "cell_type": "code",
   "execution_count": 40,
   "id": "5b13de80",
   "metadata": {},
   "outputs": [],
   "source": [
    "import boto3\n",
    "from botocore.handlers import disable_signing\n",
    "from botocore import UNSIGNED\n",
    "from botocore.config import Config\n",
    "import os"
   ]
  },
  {
   "cell_type": "markdown",
   "id": "0b3b3062",
   "metadata": {},
   "source": [
    "### Step 2: Set Bucket name and Files location as variables"
   ]
  },
  {
   "cell_type": "code",
   "execution_count": 41,
   "id": "miniature-colon",
   "metadata": {},
   "outputs": [],
   "source": [
    "S3_BUCKET = \"napierone.com\"\n",
    "SAMPLE_FILE = \"NapierOne/Data/7ZIP/7ZIP-BZIP2-small_zip_hashes.txt\"\n",
    "TEMP_FILE = \"temp.txt\""
   ]
  },
  {
   "cell_type": "markdown",
   "id": "d12a3dd0",
   "metadata": {},
   "source": [
    "### Step 3: Register S3 client and resource\n",
    "Note: Since we are reading files from an open data set, we are not using any credentials."
   ]
  },
  {
   "cell_type": "code",
   "execution_count": 42,
   "id": "attractive-values",
   "metadata": {},
   "outputs": [],
   "source": [
    "s3_client = boto3.client('s3', config=Config(signature_version=UNSIGNED)) # equivalent to --no-sign-request\n",
    "s3_resource = boto3.resource('s3')\n",
    "s3_resource.meta.client.meta.events.register('choose-signer.s3.*', disable_signing) # equivalent to --no-sign-request"
   ]
  },
  {
   "cell_type": "markdown",
   "id": "e9b4196f",
   "metadata": {},
   "source": [
    "### Step 4: Read all objects in specified location in this bucket"
   ]
  },
  {
   "cell_type": "code",
   "execution_count": 43,
   "id": "hourly-housing",
   "metadata": {},
   "outputs": [
    {
     "name": "stdout",
     "output_type": "stream",
     "text": [
      "Available 768 files\n"
     ]
    }
   ],
   "source": [
    "file_names = []\n",
    "bucket = s3_resource.Bucket(S3_BUCKET)\n",
    "\n",
    "for object in bucket.objects.all():\n",
    "    file_names.append(object.key)\n",
    "\n",
    "print(f\"Available {len(file_names)} files\")"
   ]
  },
  {
   "cell_type": "markdown",
   "id": "c78ad75e",
   "metadata": {},
   "source": [
    "Download file to Temp location and read contents from the file"
   ]
  },
  {
   "cell_type": "code",
   "execution_count": 44,
   "id": "6301182f",
   "metadata": {},
   "outputs": [
    {
     "name": "stdout",
     "output_type": "stream",
     "text": [
      "\n",
      "\n",
      "****************************************************************\n",
      "\n",
      "    Hash Console v1.5 by SecurityXploded\n",
      "\n",
      "    http://securityxploded.com/hash-console.php\n",
      "\n",
      "*****************************************************************\n",
      "\n",
      "\n",
      " ________________________________________________________\n",
      "\n",
      " :: Generating Hash for File '7ZIP-small.zip'\n",
      " ________________________________________________________\n",
      "\n",
      "\n",
      "\n",
      " Hash Type         Hash Length      Hash Value\n",
      " ========================================================================================================================\n",
      "\n",
      " CRC32             4                bd3b3377\n",
      "\n",
      " ADLER32           4                fcb99950\n",
      "\n",
      " RIPEMD160         20               d326302b64e417aedc79456378b75bbebb41e823\n",
      "\n",
      " MD2               16               969f083164d3a54088d382736e65e106\n",
      "\n",
      " MD4               16               c027a8b6c4a4ecff4c7f2642c2955391\n",
      "\n",
      " MD5               16               d89acaa2425eec5a8547df0e976a41c8\n",
      "\n",
      " SHA1              20               483c456bba35e571d206100924d9220ac7a30cfa\n",
      "\n",
      " SHA256            32               3169eb9530a0b34a3c5a17d1d1aebd8ba80ed7d3e2b3305bce0edd05f6b98c08\n",
      "\n",
      " SHA384            48               061c1d7e07616f7a0a4a365834273f4807fab6fee6b45910da615683344d5a64268188b130fa4c743077ef0c74ef0f34\n",
      "\n",
      " SHA512            64               c4481c2130347c6c4f63b1ece3c2254452dd37b87cae0990ead05bac7e012f331abb5bc43627c997fcb015c6b40fe9f2b68886a39c80c21fd19e0064bf7013f5\n",
      "\n",
      " HAVAL256-4        32               645c2f8440fe438d4e72ce1c42e6bc460d383c989f65069dd814013e2107f1a2\n",
      "\n",
      " WHIRLPOOL         64               890387da6376b03fc3166d0273483b0108bcf5855f8cd3748e4d0c31c213e0263e056f7ba062fd86c1be55a289da630370767267388fb3e42e6904ec0e38f6ec\n",
      "\n"
     ]
    }
   ],
   "source": [
    "s3_client.download_file(S3_BUCKET, SAMPLE_FILE, TEMP_FILE)\n",
    "\n",
    "with open(TEMP_FILE, \"r\") as text_file:\n",
    "    for line in text_file.read().splitlines():\n",
    "        print(line)\n"
   ]
  },
  {
   "cell_type": "markdown",
   "id": "7fa48b50",
   "metadata": {},
   "source": [
    "Finally, clean up temp file."
   ]
  },
  {
   "cell_type": "code",
   "execution_count": 45,
   "id": "ee238809",
   "metadata": {},
   "outputs": [],
   "source": [
    "os.remove(TEMP_FILE)"
   ]
  }
 ],
 "metadata": {
  "kernelspec": {
   "display_name": "Python 3.9.13 64-bit (microsoft store)",
   "language": "python",
   "name": "python3"
  },
  "language_info": {
   "codemirror_mode": {
    "name": "ipython",
    "version": 3
   },
   "file_extension": ".py",
   "mimetype": "text/x-python",
   "name": "python",
   "nbconvert_exporter": "python",
   "pygments_lexer": "ipython3",
   "version": "3.9.13"
  },
  "vscode": {
   "interpreter": {
    "hash": "c0f7ff968abd5cdc646c3b0d79d8d9fba0fbc1faf12e0395fe0c5d95a57fad77"
   }
  }
 },
 "nbformat": 4,
 "nbformat_minor": 5
}
